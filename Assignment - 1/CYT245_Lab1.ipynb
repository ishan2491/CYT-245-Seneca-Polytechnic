{
 "cells": [
  {
   "cell_type": "code",
   "execution_count": 48,
   "metadata": {},
   "outputs": [],
   "source": [
    "# Listing 3-1\n",
    "import os\n",
    "import sys\n",
    "\n",
    "# Corrected path without concatenating the home directory\n",
    "os.chdir(\"C:/Users/ASUS/Desktop/book/ch03\")\n"
   ]
  },
  {
   "cell_type": "code",
   "execution_count": 49,
   "metadata": {},
   "outputs": [],
   "source": [
    "# Listing 3-3\n",
    "import urllib.request\n",
    "import os.path\n",
    "\n",
    "avURL = \"http://datadrivensecurity.info/book/ch03/data/reputation.data\"\n",
    "\n",
    "# Relative path for the downloaded data\n",
    "avRep = \"C:/Users/ASUS/Desktop/book/ch03/reputation.data\"\n",
    "\n",
    "# Using an if-wrapped test with urllib.request.urlretrieve() vs direct read via pandas\n",
    "# avoids having to re-download a 16MB file every time we run the script\n",
    "if not os.path.isfile(avRep):\n",
    "    urllib.request.urlretrieve(avURL, filename=avRep)"
   ]
  },
  {
   "cell_type": "code",
   "execution_count": 50,
   "metadata": {},
   "outputs": [
    {
     "name": "stdout",
     "output_type": "stream",
     "text": [
      "                     IP  Reliability  Risk           Type Country  Locale  \\\n",
      "0        222.76.212.189            4     2  Scanning Host      CN  Xiamen   \n",
      "1        222.76.212.185            4     2  Scanning Host      CN  Xiamen   \n",
      "2        222.76.212.186            4     2  Scanning Host      CN  Xiamen   \n",
      "3           5.34.246.67            6     3       Spamming      US     NaN   \n",
      "4         178.94.97.176            4     5  Scanning Host      UA  Merefa   \n",
      "...                 ...          ...   ...            ...     ...     ...   \n",
      "258621  179.244.194.219            4     2       Spamming      BR     NaN   \n",
      "258622   216.99.159.166            4     2  Scanning Host      US  Walnut   \n",
      "258623   216.99.159.169            3     2  Scanning Host      US  Walnut   \n",
      "258624   216.99.159.176            3     2  Scanning Host      US  Walnut   \n",
      "258625   216.99.159.117            3     3  Scanning Host      US  Walnut   \n",
      "\n",
      "                              Coords   x  \n",
      "0         24.4797992706,118.08190155  11  \n",
      "1         24.4797992706,118.08190155  11  \n",
      "2         24.4797992706,118.08190155  11  \n",
      "3                         38.0,-97.0  12  \n",
      "4        49.8230018616,36.0507011414  11  \n",
      "...                              ...  ..  \n",
      "258621                   -10.0,-55.0  12  \n",
      "258622  34.0115013123,-117.853500366  11  \n",
      "258623  34.0115013123,-117.853500366  11  \n",
      "258624  34.0115013123,-117.853500366  11  \n",
      "258625  34.0115013123,-117.853500366  11  \n",
      "\n",
      "[258626 rows x 8 columns]\n",
      ",IP,Reliability,Risk,Type,Country,Locale,Coords,x\n",
      "0,222.76.212.189,4,2,Scanning Host,CN,Xiamen,\"24.4797992706,118.08190155\",11\n",
      "1,222.76.212.185,4,2,Scanning Host,CN,Xiamen,\"24.4797992706,118.08190155\",11\n",
      "2,222.76.212.186,4,2,Scanning Host,CN,Xiamen,\"24.4797992706,118.08190155\",11\n",
      "3,5.34.246.67,6,3,Spamming,US,,\"38.0,-97.0\",12\n",
      "4,178.94.97.176,4,5,Scanning Host,UA,Merefa,\"49.8230018616,36.0507011414\",11\n"
     ]
    }
   ],
   "source": [
    "# Listing 3-5\n",
    "import pandas as pd\n",
    "# read in the data into a pandas data frame\n",
    "av = pd.read_csv(avRep, sep=\"#\", header=None)\n",
    "\n",
    "# make smarter column names\n",
    "av.columns = [\"IP\",\"Reliability\",\"Risk\",\"Type\",\"Country\",\n",
    "              \"Locale\",\"Coords\",\"x\"]\n",
    "print(av) \n",
    "\n",
    "av.head().to_csv(sys.stdout)"
   ]
  },
  {
   "cell_type": "code",
   "execution_count": 18,
   "metadata": {},
   "outputs": [
    {
     "name": "stdout",
     "output_type": "stream",
     "text": [
      "Collecting pandas\n",
      "  Downloading pandas-2.2.2-cp311-cp311-win_amd64.whl.metadata (19 kB)\n",
      "Collecting numpy>=1.23.2 (from pandas)\n",
      "  Downloading numpy-1.26.4-cp311-cp311-win_amd64.whl.metadata (61 kB)\n",
      "     ---------------------------------------- 0.0/61.0 kB ? eta -:--:--\n",
      "     ------ --------------------------------- 10.2/61.0 kB ? eta -:--:--\n",
      "     ------------------------- ------------ 41.0/61.0 kB 653.6 kB/s eta 0:00:01\n",
      "     -------------------------------------- 61.0/61.0 kB 651.3 kB/s eta 0:00:00\n",
      "Requirement already satisfied: python-dateutil>=2.8.2 in c:\\users\\asus\\anaconda3\\envs\\myenv\\lib\\site-packages (from pandas) (2.9.0.post0)\n",
      "Requirement already satisfied: pytz>=2020.1 in c:\\users\\asus\\anaconda3\\envs\\myenv\\lib\\site-packages (from pandas) (2024.1)\n",
      "Collecting tzdata>=2022.7 (from pandas)\n",
      "  Downloading tzdata-2024.1-py2.py3-none-any.whl.metadata (1.4 kB)\n",
      "Requirement already satisfied: six>=1.5 in c:\\users\\asus\\anaconda3\\envs\\myenv\\lib\\site-packages (from python-dateutil>=2.8.2->pandas) (1.16.0)\n",
      "Downloading pandas-2.2.2-cp311-cp311-win_amd64.whl (11.6 MB)\n",
      "   ---------------------------------------- 0.0/11.6 MB ? eta -:--:--\n",
      "   - -------------------------------------- 0.4/11.6 MB 12.2 MB/s eta 0:00:01\n",
      "   ----- ---------------------------------- 1.7/11.6 MB 21.9 MB/s eta 0:00:01\n",
      "   ------------ --------------------------- 3.8/11.6 MB 34.1 MB/s eta 0:00:01\n",
      "   -------------------- ------------------- 5.9/11.6 MB 37.6 MB/s eta 0:00:01\n",
      "   ------------------------------- -------- 9.3/11.6 MB 39.5 MB/s eta 0:00:01\n",
      "   ---------------------------------------  11.6/11.6 MB 50.4 MB/s eta 0:00:01\n",
      "   ---------------------------------------- 11.6/11.6 MB 40.9 MB/s eta 0:00:00\n",
      "Downloading numpy-1.26.4-cp311-cp311-win_amd64.whl (15.8 MB)\n",
      "   ---------------------------------------- 0.0/15.8 MB ? eta -:--:--\n",
      "   ---- ----------------------------------- 1.7/15.8 MB 53.2 MB/s eta 0:00:01\n",
      "   ------- -------------------------------- 2.9/15.8 MB 36.6 MB/s eta 0:00:01\n",
      "   ------------- -------------------------- 5.5/15.8 MB 43.6 MB/s eta 0:00:01\n",
      "   ------------------ --------------------- 7.3/15.8 MB 38.8 MB/s eta 0:00:01\n",
      "   ------------------------ --------------- 9.8/15.8 MB 44.7 MB/s eta 0:00:01\n",
      "   --------------------------- ------------ 10.8/15.8 MB 40.9 MB/s eta 0:00:01\n",
      "   --------------------------------- ------ 13.3/15.8 MB 54.7 MB/s eta 0:00:01\n",
      "   ---------------------------------------  15.8/15.8 MB 50.1 MB/s eta 0:00:01\n",
      "   ---------------------------------------- 15.8/15.8 MB 43.5 MB/s eta 0:00:00\n",
      "Downloading tzdata-2024.1-py2.py3-none-any.whl (345 kB)\n",
      "   ---------------------------------------- 0.0/345.4 kB ? eta -:--:--\n",
      "   --------------------------------------- 345.4/345.4 kB 10.5 MB/s eta 0:00:00\n",
      "Installing collected packages: tzdata, numpy, pandas\n",
      "Successfully installed numpy-1.26.4 pandas-2.2.2 tzdata-2024.1\n"
     ]
    }
   ],
   "source": [
    "!pip install pandas"
   ]
  },
  {
   "cell_type": "code",
   "execution_count": 51,
   "metadata": {},
   "outputs": [
    {
     "data": {
      "text/html": [
       "<table border=\"1\" class=\"dataframe\">\n",
       "  <thead>\n",
       "    <tr style=\"text-align: right;\">\n",
       "      <th></th>\n",
       "      <th>IP</th>\n",
       "      <th>Reliability</th>\n",
       "      <th>Risk</th>\n",
       "      <th>Type</th>\n",
       "      <th>Country</th>\n",
       "      <th>Locale</th>\n",
       "      <th>Coords</th>\n",
       "      <th>x</th>\n",
       "    </tr>\n",
       "  </thead>\n",
       "  <tbody>\n",
       "    <tr>\n",
       "      <th>0</th>\n",
       "      <td>222.76.212.189</td>\n",
       "      <td>4</td>\n",
       "      <td>2</td>\n",
       "      <td>Scanning Host</td>\n",
       "      <td>CN</td>\n",
       "      <td>Xiamen</td>\n",
       "      <td>24.4797992706,118.08190155</td>\n",
       "      <td>11</td>\n",
       "    </tr>\n",
       "    <tr>\n",
       "      <th>1</th>\n",
       "      <td>222.76.212.185</td>\n",
       "      <td>4</td>\n",
       "      <td>2</td>\n",
       "      <td>Scanning Host</td>\n",
       "      <td>CN</td>\n",
       "      <td>Xiamen</td>\n",
       "      <td>24.4797992706,118.08190155</td>\n",
       "      <td>11</td>\n",
       "    </tr>\n",
       "    <tr>\n",
       "      <th>2</th>\n",
       "      <td>222.76.212.186</td>\n",
       "      <td>4</td>\n",
       "      <td>2</td>\n",
       "      <td>Scanning Host</td>\n",
       "      <td>CN</td>\n",
       "      <td>Xiamen</td>\n",
       "      <td>24.4797992706,118.08190155</td>\n",
       "      <td>11</td>\n",
       "    </tr>\n",
       "    <tr>\n",
       "      <th>3</th>\n",
       "      <td>5.34.246.67</td>\n",
       "      <td>6</td>\n",
       "      <td>3</td>\n",
       "      <td>Spamming</td>\n",
       "      <td>US</td>\n",
       "      <td>NaN</td>\n",
       "      <td>38.0,-97.0</td>\n",
       "      <td>12</td>\n",
       "    </tr>\n",
       "    <tr>\n",
       "      <th>4</th>\n",
       "      <td>178.94.97.176</td>\n",
       "      <td>4</td>\n",
       "      <td>5</td>\n",
       "      <td>Scanning Host</td>\n",
       "      <td>UA</td>\n",
       "      <td>Merefa</td>\n",
       "      <td>49.8230018616,36.0507011414</td>\n",
       "      <td>11</td>\n",
       "    </tr>\n",
       "    <tr>\n",
       "      <th>5</th>\n",
       "      <td>66.2.49.232</td>\n",
       "      <td>4</td>\n",
       "      <td>2</td>\n",
       "      <td>Scanning Host</td>\n",
       "      <td>US</td>\n",
       "      <td>Union City</td>\n",
       "      <td>37.5962982178,-122.065696716</td>\n",
       "      <td>11</td>\n",
       "    </tr>\n",
       "    <tr>\n",
       "      <th>6</th>\n",
       "      <td>222.76.212.173</td>\n",
       "      <td>4</td>\n",
       "      <td>2</td>\n",
       "      <td>Scanning Host</td>\n",
       "      <td>CN</td>\n",
       "      <td>Xiamen</td>\n",
       "      <td>24.4797992706,118.08190155</td>\n",
       "      <td>11</td>\n",
       "    </tr>\n",
       "    <tr>\n",
       "      <th>7</th>\n",
       "      <td>222.76.212.172</td>\n",
       "      <td>4</td>\n",
       "      <td>2</td>\n",
       "      <td>Scanning Host</td>\n",
       "      <td>CN</td>\n",
       "      <td>Xiamen</td>\n",
       "      <td>24.4797992706,118.08190155</td>\n",
       "      <td>11</td>\n",
       "    </tr>\n",
       "    <tr>\n",
       "      <th>8</th>\n",
       "      <td>222.76.212.171</td>\n",
       "      <td>4</td>\n",
       "      <td>2</td>\n",
       "      <td>Scanning Host</td>\n",
       "      <td>CN</td>\n",
       "      <td>Xiamen</td>\n",
       "      <td>24.4797992706,118.08190155</td>\n",
       "      <td>11</td>\n",
       "    </tr>\n",
       "    <tr>\n",
       "      <th>9</th>\n",
       "      <td>174.142.46.19</td>\n",
       "      <td>6</td>\n",
       "      <td>3</td>\n",
       "      <td>Spamming</td>\n",
       "      <td>NaN</td>\n",
       "      <td>NaN</td>\n",
       "      <td>24.4797992706,118.08190155</td>\n",
       "      <td>12</td>\n",
       "    </tr>\n",
       "  </tbody>\n",
       "</table>"
      ],
      "text/plain": [
       "<IPython.core.display.HTML object>"
      ]
     },
     "execution_count": 51,
     "metadata": {},
     "output_type": "execute_result"
    }
   ],
   "source": [
    "# Listing 3-6\n",
    "# require object: av (3-5)\n",
    "# See corresponding output in Figure 3-1\n",
    "# import the capability to display Python objects as formatted HTML\n",
    "from IPython.display import HTML \n",
    "# display the first 10 lines of the dataframe as formatted HTML\n",
    "HTML(av.head(10).to_html())"
   ]
  },
  {
   "cell_type": "code",
   "execution_count": 52,
   "metadata": {},
   "outputs": [
    {
     "data": {
      "text/plain": [
       "count    258626.000000\n",
       "mean          2.798040\n",
       "std           1.130419\n",
       "min           1.000000\n",
       "25%           2.000000\n",
       "50%           2.000000\n",
       "75%           4.000000\n",
       "max          10.000000\n",
       "Name: Reliability, dtype: float64"
      ]
     },
     "execution_count": 52,
     "metadata": {},
     "output_type": "execute_result"
    }
   ],
   "source": [
    "# Listing 3-8\n",
    "# require object: av (3-5)\n",
    "av['Reliability'].describe()"
   ]
  },
  {
   "cell_type": "code",
   "execution_count": 53,
   "metadata": {},
   "outputs": [
    {
     "data": {
      "text/plain": [
       "count    258626.000000\n",
       "mean          2.221362\n",
       "std           0.531571\n",
       "min           1.000000\n",
       "25%           2.000000\n",
       "50%           2.000000\n",
       "75%           2.000000\n",
       "max           7.000000\n",
       "Name: Risk, dtype: float64"
      ]
     },
     "execution_count": 53,
     "metadata": {},
     "output_type": "execute_result"
    }
   ],
   "source": [
    "av['Risk'].describe()"
   ]
  },
  {
   "cell_type": "code",
   "execution_count": 54,
   "metadata": {},
   "outputs": [],
   "source": [
    "# Listing 3-10\n",
    "def factor_col(col):\n",
    "    factor = pd.Categorical(col)\n",
    "    return pd.Series(factor).value_counts().reindex(factor.categories)\n",
    "\n",
    "rel_ct = pd.Series(av['Reliability']).value_counts()\n",
    "risk_ct = pd.Series(av['Risk']).value_counts()\n",
    "type_ct = pd.Series(av['Type']).value_counts()\n",
    "country_ct = pd.Series(av['Country']).value_counts()\n"
   ]
  },
  {
   "cell_type": "code",
   "execution_count": 55,
   "metadata": {},
   "outputs": [
    {
     "name": "stdout",
     "output_type": "stream",
     "text": [
      "1       5612\n",
      "2     149117\n",
      "3      10892\n",
      "4      87040\n",
      "5          7\n",
      "6       4758\n",
      "7        297\n",
      "8         21\n",
      "9        686\n",
      "10       196\n",
      "Name: count, dtype: int64\n"
     ]
    }
   ],
   "source": [
    "print(factor_col(av['Reliability']))"
   ]
  },
  {
   "cell_type": "code",
   "execution_count": 56,
   "metadata": {},
   "outputs": [
    {
     "name": "stdout",
     "output_type": "stream",
     "text": [
      "1        39\n",
      "2    213852\n",
      "3     33719\n",
      "4      9588\n",
      "5      1328\n",
      "6        90\n",
      "7        10\n",
      "Name: count, dtype: int64\n"
     ]
    }
   ],
   "source": [
    "print(factor_col(av['Risk']))"
   ]
  },
  {
   "cell_type": "code",
   "execution_count": 57,
   "metadata": {},
   "outputs": [
    {
     "name": "stdout",
     "output_type": "stream",
     "text": [
      "APT;Malware Domain                  1\n",
      "C&C                               610\n",
      "C&C;Malware Domain                 31\n",
      "C&C;Malware IP                     20\n",
      "C&C;Scanning Host                   7\n",
      "Malicious Host                   3770\n",
      "Malicious Host;Malware Domain       4\n",
      "Malicious Host;Malware IP           2\n",
      "Malicious Host;Scanning Host      163\n",
      "Malware Domain                   9274\n",
      "Name: count, dtype: int64\n"
     ]
    }
   ],
   "source": [
    "print(factor_col(av['Type']).head(n=10))"
   ]
  },
  {
   "cell_type": "code",
   "execution_count": 58,
   "metadata": {},
   "outputs": [
    {
     "name": "stdout",
     "output_type": "stream",
     "text": [
      "A1     267\n",
      "A2       2\n",
      "AE    1827\n",
      "AL       4\n",
      "AM       6\n",
      "AN       3\n",
      "AO     256\n",
      "AR    3046\n",
      "AT      51\n",
      "AU     155\n",
      "Name: count, dtype: int64\n"
     ]
    }
   ],
   "source": [
    "print(factor_col(av['Country']).head(n=10))"
   ]
  },
  {
   "cell_type": "code",
   "execution_count": 59,
   "metadata": {},
   "outputs": [
    {
     "data": {
      "image/png": "[encoded data removed]",
      "text/plain": [
       "<Figure size 800x500 with 1 Axes>"
      ]
     },
     "metadata": {},
     "output_type": "display_data"
    }
   ],
   "source": [
    "# Listing 3-14\n",
    "import matplotlib.pyplot as plt\n",
    "\n",
    "# sort by country\n",
    "country_ct = pd.Series(av['Country']).value_counts()\n",
    "\n",
    "# plot the data\n",
    "plt.axes(frameon=0) # reduce chart junk\n",
    "country_ct[:20].plot(kind='bar', \n",
    "   rot=0, title=\"Summary By Country\", figsize=(8,5)).grid(False)\n"
   ]
  },
  {
   "cell_type": "code",
   "execution_count": 34,
   "metadata": {},
   "outputs": [
    {
     "name": "stdout",
     "output_type": "stream",
     "text": [
      "Collecting matplotlibNote: you may need to restart the kernel to use updated packages.\n",
      "\n",
      "  Downloading matplotlib-3.9.0-cp311-cp311-win_amd64.whl.metadata (11 kB)\n",
      "Collecting contourpy>=1.0.1 (from matplotlib)\n",
      "  Downloading contourpy-1.2.1-cp311-cp311-win_amd64.whl.metadata (5.8 kB)\n",
      "Collecting cycler>=0.10 (from matplotlib)\n",
      "  Downloading cycler-0.12.1-py3-none-any.whl.metadata (3.8 kB)\n",
      "Collecting fonttools>=4.22.0 (from matplotlib)\n",
      "  Downloading fonttools-4.52.1-cp311-cp311-win_amd64.whl.metadata (164 kB)\n",
      "     ---------------------------------------- 0.0/164.2 kB ? eta -:--:--\n",
      "     -- ------------------------------------- 10.2/164.2 kB ? eta -:--:--\n",
      "     -------------------------------------  163.8/164.2 kB 2.0 MB/s eta 0:00:01\n",
      "     -------------------------------------- 164.2/164.2 kB 1.6 MB/s eta 0:00:00\n",
      "Collecting kiwisolver>=1.3.1 (from matplotlib)\n",
      "  Downloading kiwisolver-1.4.5-cp311-cp311-win_amd64.whl.metadata (6.5 kB)\n",
      "Requirement already satisfied: numpy>=1.23 in c:\\users\\asus\\anaconda3\\envs\\myenv\\lib\\site-packages (from matplotlib) (1.26.4)\n",
      "Requirement already satisfied: packaging>=20.0 in c:\\users\\asus\\anaconda3\\envs\\myenv\\lib\\site-packages (from matplotlib) (23.2)\n",
      "Collecting pillow>=8 (from matplotlib)\n",
      "  Downloading pillow-10.3.0-cp311-cp311-win_amd64.whl.metadata (9.4 kB)\n",
      "Collecting pyparsing>=2.3.1 (from matplotlib)\n",
      "  Downloading pyparsing-3.1.2-py3-none-any.whl.metadata (5.1 kB)\n",
      "Requirement already satisfied: python-dateutil>=2.7 in c:\\users\\asus\\anaconda3\\envs\\myenv\\lib\\site-packages (from matplotlib) (2.9.0.post0)\n",
      "Requirement already satisfied: six>=1.5 in c:\\users\\asus\\anaconda3\\envs\\myenv\\lib\\site-packages (from python-dateutil>=2.7->matplotlib) (1.16.0)\n",
      "Downloading matplotlib-3.9.0-cp311-cp311-win_amd64.whl (8.0 MB)\n",
      "   ---------------------------------------- 0.0/8.0 MB ? eta -:--:--\n",
      "   ------ --------------------------------- 1.3/8.0 MB 26.6 MB/s eta 0:00:01\n",
      "   -------------- ------------------------- 2.8/8.0 MB 29.8 MB/s eta 0:00:01\n",
      "   ---------------------- ----------------- 4.5/8.0 MB 32.2 MB/s eta 0:00:01\n",
      "   ---------------------------------- ----- 6.8/8.0 MB 36.0 MB/s eta 0:00:01\n",
      "   ---------------------------------------- 8.0/8.0 MB 33.8 MB/s eta 0:00:00\n",
      "Downloading contourpy-1.2.1-cp311-cp311-win_amd64.whl (188 kB)\n",
      "   ---------------------------------------- 0.0/188.2 kB ? eta -:--:--\n",
      "   --------------------------------------- 188.2/188.2 kB 11.9 MB/s eta 0:00:00\n",
      "Downloading cycler-0.12.1-py3-none-any.whl (8.3 kB)\n",
      "Downloading fonttools-4.52.1-cp311-cp311-win_amd64.whl (2.2 MB)\n",
      "   ---------------------------------------- 0.0/2.2 MB ? eta -:--:--\n",
      "   ----------------------------- ---------- 1.6/2.2 MB 52.5 MB/s eta 0:00:01\n",
      "   ---------------------------------------- 2.2/2.2 MB 35.4 MB/s eta 0:00:00\n",
      "Downloading kiwisolver-1.4.5-cp311-cp311-win_amd64.whl (56 kB)\n",
      "   ---------------------------------------- 0.0/56.1 kB ? eta -:--:--\n",
      "   ---------------------------------------- 56.1/56.1 kB 2.9 MB/s eta 0:00:00\n",
      "Downloading pillow-10.3.0-cp311-cp311-win_amd64.whl (2.5 MB)\n",
      "   ---------------------------------------- 0.0/2.5 MB ? eta -:--:--\n",
      "   ------------------------------- -------- 2.0/2.5 MB 62.4 MB/s eta 0:00:01\n",
      "   ---------------------------------------- 2.5/2.5 MB 40.0 MB/s eta 0:00:00\n",
      "Downloading pyparsing-3.1.2-py3-none-any.whl (103 kB)\n",
      "   ---------------------------------------- 0.0/103.2 kB ? eta -:--:--\n",
      "   ---------------------------------------- 103.2/103.2 kB ? eta 0:00:00\n",
      "Installing collected packages: pyparsing, pillow, kiwisolver, fonttools, cycler, contourpy, matplotlib\n",
      "Successfully installed contourpy-1.2.1 cycler-0.12.1 fonttools-4.52.1 kiwisolver-1.4.5 matplotlib-3.9.0 pillow-10.3.0 pyparsing-3.1.2\n"
     ]
    }
   ],
   "source": [
    "pip install matplotlib"
   ]
  },
  {
   "cell_type": "code",
   "execution_count": 60,
   "metadata": {},
   "outputs": [
    {
     "data": {
      "image/png": "[encoded data removed]",
      "text/plain": [
       "<Figure size 800x500 with 1 Axes>"
      ]
     },
     "metadata": {},
     "output_type": "display_data"
    }
   ],
   "source": [
    "# Listing 3-15\n",
    "# requires packages: matplotlib\n",
    "# require object: av (3-5), factor_col (3-10)\n",
    "# See corresponding output in Figure 3-6\n",
    "plt.axes(frameon=0) # reduce chart junk\n",
    "factor_col(av['Reliability']).plot(kind='bar', rot=0,\n",
    "           title=\"Summary By 'Reliability'\", figsize=(8,5)).grid(False)"
   ]
  },
  {
   "cell_type": "code",
   "execution_count": 61,
   "metadata": {},
   "outputs": [
    {
     "data": {
      "image/png": "[encoded data removed]",
      "text/plain": [
       "<Figure size 800x500 with 1 Axes>"
      ]
     },
     "metadata": {},
     "output_type": "display_data"
    }
   ],
   "source": [
    "# Listing 3-16\n",
    "# requires packages: matplotlib\n",
    "# require object: av (3-5), factor_col (3-10)\n",
    "# See corresponding output in Figure 3-7\n",
    "plt.axes(frameon=0) # reduce chart junk\n",
    "factor_col(av['Risk']).plot(kind='bar', rot=0, \n",
    "           title=\"Summary By 'Risk'\", figsize=(8,5)).grid(False)"
   ]
  },
  {
   "cell_type": "code",
   "execution_count": 62,
   "metadata": {},
   "outputs": [
    {
     "name": "stdout",
     "output_type": "stream",
     "text": [
      "Country\n",
      "CN    0.265182\n",
      "US    0.194826\n",
      "TR    0.053970\n",
      "DE    0.038484\n",
      "NL    0.030666\n",
      "RU    0.024537\n",
      "GB    0.024332\n",
      "IN    0.021189\n",
      "FR    0.021069\n",
      "Name: count, dtype: float64\n"
     ]
    }
   ],
   "source": [
    "# Listing 3-18\n",
    "# require object: av (3-5)\n",
    "# extract the top 10 most prevalent countries\n",
    "top10 = pd.Series(av['Country']).value_counts()[0:9]\n",
    "\n",
    "# calculate the % for each of the top 10\n",
    "percentage_top10 = top10.astype(float) / len(av['Country'])\n",
    "print(percentage_top10)\n"
   ]
  },
  {
   "cell_type": "code",
   "execution_count": null,
   "metadata": {},
   "outputs": [],
   "source": []
  }
 ],
 "metadata": {
  "kernelspec": {
   "display_name": "Python 3 (ipykernel)",
   "language": "python",
   "name": "python3"
  },
  "language_info": {
   "codemirror_mode": {
    "name": "ipython",
    "version": 3
   },
   "file_extension": ".py",
   "mimetype": "text/x-python",
   "name": "python",
   "nbconvert_exporter": "python",
   "pygments_lexer": "ipython3",
   "version": "3.11.9"
  }
 },
 "nbformat": 4,
 "nbformat_minor": 4
}
